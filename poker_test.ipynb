{
 "cells": [
  {
   "cell_type": "code",
   "execution_count": 2,
   "metadata": {},
   "outputs": [],
   "source": [
    "import attr\n",
    "from dateutil.parser import parse as parse_date\n",
    "import requests\n",
    "from lxml import etree"
   ]
  },
  {
   "cell_type": "code",
   "execution_count": 3,
   "metadata": {},
   "outputs": [],
   "source": [
    "__all__ = [\n",
    "    \"get_current_tournaments\",\n",
    "    \"get_status\",\n",
    "    \"WEBSITE_URL\",\n",
    "    \"TOURNAMENTS_XML_URL\",\n",
    "    \"STATUS_URL\",\n",
    "]"
   ]
  },
  {
   "cell_type": "code",
   "execution_count": 4,
   "metadata": {},
   "outputs": [],
   "source": [
    "WEBSITE_URL = \"http://www.pokerstars.eu\"\n",
    "TOURNAMENTS_XML_URL = WEBSITE_URL + \"/datafeed_global/tournaments/all.xml\"\n",
    "STATUS_URL = \"http://www.psimg.com/datafeed/dyn_banners/summary.json.js\""
   ]
  },
  {
   "cell_type": "code",
   "execution_count": 5,
   "metadata": {},
   "outputs": [],
   "source": [
    "res = requests.get(STATUS_URL)"
   ]
  },
  {
   "cell_type": "code",
   "execution_count": 6,
   "metadata": {},
   "outputs": [],
   "source": [
    "status = res.json()[\"tournaments\"][\"host\"]"
   ]
  },
  {
   "cell_type": "code",
   "execution_count": 7,
   "metadata": {},
   "outputs": [
    {
     "data": {
      "text/plain": [
       "[{'id': 'COM',\n",
       "  'players': 37914,\n",
       "  'tables': 7272,\n",
       "  'active_tournaments': 3494,\n",
       "  'total_tournaments': 10626,\n",
       "  'play_money': {'players': 20276, 'tables': 3757, 'active_tournaments': 2049},\n",
       "  'clubs': 419842,\n",
       "  'club_members': 4968587},\n",
       " {'id': 'IT', 'players': 20268, 'tables': 3723, 'active_tournaments': 1980},\n",
       " {'id': 'FR', 'players': 20642, 'tables': 3856, 'active_tournaments': 2202},\n",
       " {'id': 'ES', 'players': 20586, 'tables': 3844, 'active_tournaments': 2201}]"
      ]
     },
     "execution_count": 7,
     "metadata": {},
     "output_type": "execute_result"
    }
   ],
   "source": [
    "sites = res.json()[\"tournaments\"][\"host\"][\"site\"]\n",
    "sites"
   ]
  },
  {
   "cell_type": "code",
   "execution_count": 13,
   "metadata": {},
   "outputs": [
    {
     "data": {
      "text/plain": [
       "({'players': 20276, 'tables': 3757, 'active_tournaments': 2049},\n",
       " [{'id': 'COM',\n",
       "   'players': 37914,\n",
       "   'tables': 7272,\n",
       "   'active_tournaments': 3494,\n",
       "   'total_tournaments': 10626,\n",
       "   'play_money': {'players': 20276,\n",
       "    'tables': 3757,\n",
       "    'active_tournaments': 2049},\n",
       "   'clubs': 419842,\n",
       "   'club_members': 4968587},\n",
       "  {'id': 'IT', 'players': 20268, 'tables': 3723, 'active_tournaments': 1980},\n",
       "  {'id': 'FR', 'players': 20642, 'tables': 3856, 'active_tournaments': 2202},\n",
       "  {'id': 'ES', 'players': 20586, 'tables': 3844, 'active_tournaments': 2201}])"
      ]
     },
     "execution_count": 13,
     "metadata": {},
     "output_type": "execute_result"
    }
   ],
   "source": [
    "play_money = res.json()[\"tournaments\"][\"host\"][\"site\"][0].pop(\"play_money\")\n",
    "play_money, sites"
   ]
  },
  {
   "cell_type": "code",
   "execution_count": 8,
   "metadata": {},
   "outputs": [
    {
     "name": "stdout",
     "output_type": "stream",
     "text": [
      "<Response [200]>\n"
     ]
    }
   ],
   "source": [
    "print (res)"
   ]
  },
  {
   "cell_type": "code",
   "execution_count": 9,
   "metadata": {},
   "outputs": [
    {
     "data": {
      "text/plain": [
       "{'tournaments': {'host': {'id': 'IOM',\n",
       "   'updated': '2021-01-13T22:19:32-05:00',\n",
       "   'next_update': 10,\n",
       "   'site': [{'id': 'COM',\n",
       "     'players': 45721,\n",
       "     'tables': 8501,\n",
       "     'active_tournaments': 4145,\n",
       "     'total_tournaments': 10683,\n",
       "     'play_money': {'players': 24946,\n",
       "      'tables': 4533,\n",
       "      'active_tournaments': 2473},\n",
       "     'clubs': 419823,\n",
       "     'club_members': 4968524},\n",
       "    {'id': 'IT', 'players': 25118, 'tables': 4527, 'active_tournaments': 2409},\n",
       "    {'id': 'FR', 'players': 25723, 'tables': 4706, 'active_tournaments': 2693},\n",
       "    {'id': 'ES',\n",
       "     'players': 25662,\n",
       "     'tables': 4689,\n",
       "     'active_tournaments': 2686}]}}}"
      ]
     },
     "execution_count": 9,
     "metadata": {},
     "output_type": "execute_result"
    }
   ],
   "source": [
    "res.json()"
   ]
  },
  {
   "cell_type": "code",
   "execution_count": 2,
   "metadata": {},
   "outputs": [
    {
     "ename": "TypeError",
     "evalue": "__init__() got an unexpected keyword argument 'total_tournaments'",
     "output_type": "error",
     "traceback": [
      "\u001b[1;31m---------------------------------------------------------------------------\u001b[0m",
      "\u001b[1;31mTypeError\u001b[0m                                 Traceback (most recent call last)",
      "\u001b[1;32m<ipython-input-2-56e5fad04acb>\u001b[0m in \u001b[0;36m<module>\u001b[1;34m\u001b[0m\n\u001b[0;32m      1\u001b[0m \u001b[1;32mfrom\u001b[0m \u001b[0mpoker\u001b[0m\u001b[1;33m.\u001b[0m\u001b[0mwebsite\u001b[0m\u001b[1;33m.\u001b[0m\u001b[0mpokerstars\u001b[0m \u001b[1;32mimport\u001b[0m \u001b[0mget_status\u001b[0m\u001b[1;33m\u001b[0m\u001b[1;33m\u001b[0m\u001b[0m\n\u001b[1;32m----> 2\u001b[1;33m \u001b[0mstatus\u001b[0m \u001b[1;33m=\u001b[0m \u001b[0mget_status\u001b[0m\u001b[1;33m(\u001b[0m\u001b[1;33m)\u001b[0m\u001b[1;33m\u001b[0m\u001b[1;33m\u001b[0m\u001b[0m\n\u001b[0m",
      "\u001b[1;32m~\\OneDrive\\Documents\\GitHub\\poker\\poker\\website\\pokerstars.py\u001b[0m in \u001b[0;36mget_status\u001b[1;34m()\u001b[0m\n\u001b[0;32m     83\u001b[0m     \u001b[1;31m# move all sites under sites attribute, including play money\u001b[0m\u001b[1;33m\u001b[0m\u001b[1;33m\u001b[0m\u001b[1;33m\u001b[0m\u001b[0m\n\u001b[0;32m     84\u001b[0m     \u001b[0msites\u001b[0m \u001b[1;33m=\u001b[0m \u001b[0mres\u001b[0m\u001b[1;33m.\u001b[0m\u001b[0mjson\u001b[0m\u001b[1;33m(\u001b[0m\u001b[1;33m)\u001b[0m\u001b[1;33m[\u001b[0m\u001b[1;34m\"tournaments\"\u001b[0m\u001b[1;33m]\u001b[0m\u001b[1;33m[\u001b[0m\u001b[1;34m\"host\"\u001b[0m\u001b[1;33m]\u001b[0m\u001b[1;33m[\u001b[0m\u001b[1;34m\"site\"\u001b[0m\u001b[1;33m]\u001b[0m\u001b[1;33m\u001b[0m\u001b[1;33m\u001b[0m\u001b[0m\n\u001b[1;32m---> 85\u001b[1;33m     \u001b[0mplay_money\u001b[0m \u001b[1;33m=\u001b[0m \u001b[0msites\u001b[0m\u001b[1;33m[\u001b[0m\u001b[1;36m0\u001b[0m\u001b[1;33m]\u001b[0m\u001b[1;33m.\u001b[0m\u001b[0mpop\u001b[0m\u001b[1;33m(\u001b[0m\u001b[1;34m\"play_money\"\u001b[0m\u001b[1;33m)\u001b[0m\u001b[1;33m\u001b[0m\u001b[1;33m\u001b[0m\u001b[0m\n\u001b[0m\u001b[0;32m     86\u001b[0m     \u001b[0mplay_money\u001b[0m\u001b[1;33m[\u001b[0m\u001b[1;34m\"id\"\u001b[0m\u001b[1;33m]\u001b[0m \u001b[1;33m=\u001b[0m \u001b[1;34m\"Play Money\"\u001b[0m\u001b[1;33m\u001b[0m\u001b[1;33m\u001b[0m\u001b[0m\n\u001b[0;32m     87\u001b[0m     \u001b[0msites\u001b[0m\u001b[1;33m.\u001b[0m\u001b[0mappend\u001b[0m\u001b[1;33m(\u001b[0m\u001b[0mplay_money\u001b[0m\u001b[1;33m)\u001b[0m\u001b[1;33m\u001b[0m\u001b[1;33m\u001b[0m\u001b[0m\n",
      "\u001b[1;32m~\\OneDrive\\Documents\\GitHub\\poker\\poker\\website\\pokerstars.py\u001b[0m in \u001b[0;36m<genexpr>\u001b[1;34m(.0)\u001b[0m\n\u001b[0;32m     83\u001b[0m     \u001b[1;31m# move all sites under sites attribute, including play money\u001b[0m\u001b[1;33m\u001b[0m\u001b[1;33m\u001b[0m\u001b[1;33m\u001b[0m\u001b[0m\n\u001b[0;32m     84\u001b[0m     \u001b[0msites\u001b[0m \u001b[1;33m=\u001b[0m \u001b[0mres\u001b[0m\u001b[1;33m.\u001b[0m\u001b[0mjson\u001b[0m\u001b[1;33m(\u001b[0m\u001b[1;33m)\u001b[0m\u001b[1;33m[\u001b[0m\u001b[1;34m\"tournaments\"\u001b[0m\u001b[1;33m]\u001b[0m\u001b[1;33m[\u001b[0m\u001b[1;34m\"host\"\u001b[0m\u001b[1;33m]\u001b[0m\u001b[1;33m[\u001b[0m\u001b[1;34m\"site\"\u001b[0m\u001b[1;33m]\u001b[0m\u001b[1;33m\u001b[0m\u001b[1;33m\u001b[0m\u001b[0m\n\u001b[1;32m---> 85\u001b[1;33m     \u001b[0mplay_money\u001b[0m \u001b[1;33m=\u001b[0m \u001b[0msites\u001b[0m\u001b[1;33m[\u001b[0m\u001b[1;36m0\u001b[0m\u001b[1;33m]\u001b[0m\u001b[1;33m.\u001b[0m\u001b[0mpop\u001b[0m\u001b[1;33m(\u001b[0m\u001b[1;34m\"play_money\"\u001b[0m\u001b[1;33m)\u001b[0m\u001b[1;33m\u001b[0m\u001b[1;33m\u001b[0m\u001b[0m\n\u001b[0m\u001b[0;32m     86\u001b[0m     \u001b[0mplay_money\u001b[0m\u001b[1;33m[\u001b[0m\u001b[1;34m\"id\"\u001b[0m\u001b[1;33m]\u001b[0m \u001b[1;33m=\u001b[0m \u001b[1;34m\"Play Money\"\u001b[0m\u001b[1;33m\u001b[0m\u001b[1;33m\u001b[0m\u001b[0m\n\u001b[0;32m     87\u001b[0m     \u001b[0msites\u001b[0m\u001b[1;33m.\u001b[0m\u001b[0mappend\u001b[0m\u001b[1;33m(\u001b[0m\u001b[0mplay_money\u001b[0m\u001b[1;33m)\u001b[0m\u001b[1;33m\u001b[0m\u001b[1;33m\u001b[0m\u001b[0m\n",
      "\u001b[1;31mTypeError\u001b[0m: __init__() got an unexpected keyword argument 'total_tournaments'"
     ]
    }
   ],
   "source": [
    "from poker.website.pokerstars import get_status\n",
    "status = get_status()"
   ]
  },
  {
   "cell_type": "code",
   "execution_count": null,
   "metadata": {},
   "outputs": [],
   "source": []
  }
 ],
 "metadata": {
  "kernelspec": {
   "display_name": "Python (poker)",
   "language": "python",
   "name": "poker"
  },
  "language_info": {
   "codemirror_mode": {
    "name": "ipython",
    "version": 3
   },
   "file_extension": ".py",
   "mimetype": "text/x-python",
   "name": "python",
   "nbconvert_exporter": "python",
   "pygments_lexer": "ipython3",
   "version": "3.9.1"
  }
 },
 "nbformat": 4,
 "nbformat_minor": 4
}
